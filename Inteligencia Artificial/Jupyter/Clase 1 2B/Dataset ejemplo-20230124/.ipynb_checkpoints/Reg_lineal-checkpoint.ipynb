{
 "cells": [
  {
   "cell_type": "markdown",
   "id": "b2c7efd9",
   "metadata": {},
   "source": [
    "## Proceso de ML"
   ]
  },
  {
   "cell_type": "code",
   "execution_count": 1,
   "id": "91dcc377",
   "metadata": {},
   "outputs": [],
   "source": [
    "import pandas as pd\n",
    "import numpy as np\n",
    "import matplotlib.pyplot as plt\n",
    "import matplotlib.ticker as ticker # para visualización de intervalos\n",
    "import seaborn as sns"
   ]
  },
  {
   "cell_type": "markdown",
   "id": "0fe2a16c",
   "metadata": {},
   "source": [
    "### 1. Obtención de datos"
   ]
  },
  {
   "cell_type": "code",
   "execution_count": 2,
   "id": "9037dc15",
   "metadata": {},
   "outputs": [],
   "source": [
    "casas = pd.read_csv(\"USA_Housing.csv\") #creo el DataFrame"
   ]
  },
  {
   "cell_type": "code",
   "execution_count": 3,
   "id": "89e438f8",
   "metadata": {},
   "outputs": [
    {
     "data": {
      "text/html": [
       "<div>\n",
       "<style scoped>\n",
       "    .dataframe tbody tr th:only-of-type {\n",
       "        vertical-align: middle;\n",
       "    }\n",
       "\n",
       "    .dataframe tbody tr th {\n",
       "        vertical-align: top;\n",
       "    }\n",
       "\n",
       "    .dataframe thead th {\n",
       "        text-align: right;\n",
       "    }\n",
       "</style>\n",
       "<table border=\"1\" class=\"dataframe\">\n",
       "  <thead>\n",
       "    <tr style=\"text-align: right;\">\n",
       "      <th></th>\n",
       "      <th>Avg. Area Income</th>\n",
       "      <th>Avg. Area House Age</th>\n",
       "      <th>Avg. Area Number of Rooms</th>\n",
       "      <th>Avg. Area Number of Bedrooms</th>\n",
       "      <th>Area Population</th>\n",
       "      <th>Price</th>\n",
       "      <th>Address</th>\n",
       "    </tr>\n",
       "  </thead>\n",
       "  <tbody>\n",
       "    <tr>\n",
       "      <th>0</th>\n",
       "      <td>79545.458574</td>\n",
       "      <td>5.682861</td>\n",
       "      <td>7.009188</td>\n",
       "      <td>4.09</td>\n",
       "      <td>23086.800503</td>\n",
       "      <td>1.059034e+06</td>\n",
       "      <td>208 Michael Ferry Apt. 674\\nLaurabury, NE 3701...</td>\n",
       "    </tr>\n",
       "    <tr>\n",
       "      <th>1</th>\n",
       "      <td>79248.642455</td>\n",
       "      <td>6.002900</td>\n",
       "      <td>6.730821</td>\n",
       "      <td>3.09</td>\n",
       "      <td>40173.072174</td>\n",
       "      <td>1.505891e+06</td>\n",
       "      <td>188 Johnson Views Suite 079\\nLake Kathleen, CA...</td>\n",
       "    </tr>\n",
       "    <tr>\n",
       "      <th>2</th>\n",
       "      <td>61287.067179</td>\n",
       "      <td>5.865890</td>\n",
       "      <td>8.512727</td>\n",
       "      <td>5.13</td>\n",
       "      <td>36882.159400</td>\n",
       "      <td>1.058988e+06</td>\n",
       "      <td>9127 Elizabeth Stravenue\\nDanieltown, WI 06482...</td>\n",
       "    </tr>\n",
       "    <tr>\n",
       "      <th>3</th>\n",
       "      <td>63345.240046</td>\n",
       "      <td>7.188236</td>\n",
       "      <td>5.586729</td>\n",
       "      <td>3.26</td>\n",
       "      <td>34310.242831</td>\n",
       "      <td>1.260617e+06</td>\n",
       "      <td>USS Barnett\\nFPO AP 44820</td>\n",
       "    </tr>\n",
       "    <tr>\n",
       "      <th>4</th>\n",
       "      <td>59982.197226</td>\n",
       "      <td>5.040555</td>\n",
       "      <td>7.839388</td>\n",
       "      <td>4.23</td>\n",
       "      <td>26354.109472</td>\n",
       "      <td>6.309435e+05</td>\n",
       "      <td>USNS Raymond\\nFPO AE 09386</td>\n",
       "    </tr>\n",
       "  </tbody>\n",
       "</table>\n",
       "</div>"
      ],
      "text/plain": [
       "   Avg. Area Income  Avg. Area House Age  Avg. Area Number of Rooms  \\\n",
       "0      79545.458574             5.682861                   7.009188   \n",
       "1      79248.642455             6.002900                   6.730821   \n",
       "2      61287.067179             5.865890                   8.512727   \n",
       "3      63345.240046             7.188236                   5.586729   \n",
       "4      59982.197226             5.040555                   7.839388   \n",
       "\n",
       "   Avg. Area Number of Bedrooms  Area Population         Price  \\\n",
       "0                          4.09     23086.800503  1.059034e+06   \n",
       "1                          3.09     40173.072174  1.505891e+06   \n",
       "2                          5.13     36882.159400  1.058988e+06   \n",
       "3                          3.26     34310.242831  1.260617e+06   \n",
       "4                          4.23     26354.109472  6.309435e+05   \n",
       "\n",
       "                                             Address  \n",
       "0  208 Michael Ferry Apt. 674\\nLaurabury, NE 3701...  \n",
       "1  188 Johnson Views Suite 079\\nLake Kathleen, CA...  \n",
       "2  9127 Elizabeth Stravenue\\nDanieltown, WI 06482...  \n",
       "3                          USS Barnett\\nFPO AP 44820  \n",
       "4                         USNS Raymond\\nFPO AE 09386  "
      ]
     },
     "execution_count": 3,
     "metadata": {},
     "output_type": "execute_result"
    }
   ],
   "source": [
    "casas.head(5) # muestro los 5ros elementos por defecto "
   ]
  },
  {
   "cell_type": "code",
   "execution_count": 4,
   "id": "c81f3b77",
   "metadata": {},
   "outputs": [
    {
     "name": "stdout",
     "output_type": "stream",
     "text": [
      "<class 'pandas.core.frame.DataFrame'>\n",
      "RangeIndex: 5000 entries, 0 to 4999\n",
      "Data columns (total 7 columns):\n",
      " #   Column                        Non-Null Count  Dtype  \n",
      "---  ------                        --------------  -----  \n",
      " 0   Avg. Area Income              5000 non-null   float64\n",
      " 1   Avg. Area House Age           5000 non-null   float64\n",
      " 2   Avg. Area Number of Rooms     5000 non-null   float64\n",
      " 3   Avg. Area Number of Bedrooms  5000 non-null   float64\n",
      " 4   Area Population               5000 non-null   float64\n",
      " 5   Price                         5000 non-null   float64\n",
      " 6   Address                       5000 non-null   object \n",
      "dtypes: float64(6), object(1)\n",
      "memory usage: 273.6+ KB\n"
     ]
    }
   ],
   "source": [
    "#información general de la data\n",
    "casas.info()"
   ]
  },
  {
   "cell_type": "code",
   "execution_count": null,
   "id": "f601d0e1",
   "metadata": {},
   "outputs": [],
   "source": [
    "casas.describe() "
   ]
  },
  {
   "cell_type": "code",
   "execution_count": null,
   "id": "19ff9917",
   "metadata": {},
   "outputs": [],
   "source": [
    "\"\"\"El precio medio es 1.232073, el maximo 2,5 y el minimo en 1,6\n",
    "la curva corresponde a distribucion normal--> La distribución tiene la forma de una campana\n",
    "y la mayor parte del área de esta campana se encuentra donde la media (mediana y moda).\n",
    "El área debajo de la campana es de 1, y se divide por 0.5 a la izquierda y 0.5 a la derecha de la media.\"\"\"\n",
    "sns.distplot(casas['Price'])"
   ]
  },
  {
   "cell_type": "markdown",
   "id": "48a74a72",
   "metadata": {},
   "source": [
    "### 2. Limpieza de datos\n"
   ]
  },
  {
   "cell_type": "code",
   "execution_count": null,
   "id": "7d363a95",
   "metadata": {},
   "outputs": [],
   "source": [
    "\"\"\" Veo la correlacion entre las columnas lo que mas influye en el precio es 0,64\n",
    "se toma en cuenta el minimo, maximo \"\"\"\n",
    "sns.heatmap(casas.corr(), annot=True)"
   ]
  },
  {
   "cell_type": "code",
   "execution_count": null,
   "id": "837d7574",
   "metadata": {},
   "outputs": [],
   "source": [
    "# Dimensiones del dataset\n",
    "casas.shape\n",
    "#cantidad de datos (filas x columnas)"
   ]
  },
  {
   "cell_type": "code",
   "execution_count": null,
   "id": "47daa9ed",
   "metadata": {},
   "outputs": [],
   "source": [
    "# Número de datos ausentes por variable\n",
    "\"\"\"La mayoría de algoritmos no aceptan observaciones incompletas o bien se \n",
    "ven muy influenciados por ellas. Su identificación se tiene que realizar / eliminar\n",
    "antes de separar los datos para asegurar que se establecen todas las \n",
    "estrategias de imputación necesarias.\"\"\"\n",
    "casas.isna().sum().sort_values()"
   ]
  },
  {
   "cell_type": "code",
   "execution_count": null,
   "id": "aba41523",
   "metadata": {},
   "outputs": [],
   "source": [
    "# como parte de la limpieza de datos es modificarlos de modo q se pueda acceder a ellos\n",
    "casas.columns "
   ]
  },
  {
   "cell_type": "code",
   "execution_count": null,
   "id": "b6d07951",
   "metadata": {},
   "outputs": [],
   "source": [
    "# Valores observados de Bedrooms\n",
    "casas.Avg. Area Number of Bedrooms.value_counts() \n",
    "\"\"\"no es posible necesito renombrar\"\"\""
   ]
  },
  {
   "cell_type": "code",
   "execution_count": null,
   "id": "2c935bf6",
   "metadata": {},
   "outputs": [],
   "source": [
    "casas=casas.rename(columns={'Avg. Area Income':'Income', 'Avg. Area House Age':'HouseAge', 'Avg. Area Number of Rooms':'Rooms',\n",
    "       'Avg. Area Number of Bedrooms':'Bedrooms', 'Area Population':'Population'})\n",
    "casas.Bedrooms.value_counts() "
   ]
  },
  {
   "cell_type": "code",
   "execution_count": null,
   "id": "40da0752",
   "metadata": {},
   "outputs": [],
   "source": [
    "# Se convierte la variable Bedrooms tipo string\n",
    "\"\"\"luego realizar un modelo que incluya este dato\"\"\"\n",
    "casas.Bedrooms = casas.Bedrooms.astype(\"str\")\n",
    "casas.Bedrooms"
   ]
  },
  {
   "cell_type": "code",
   "execution_count": null,
   "id": "f848c3a7",
   "metadata": {},
   "outputs": [],
   "source": [
    "# se muestran datos solo del tipo especificado (solo consulta,no se modifican)\n",
    "casas.select_dtypes(include=['float64', 'int']).describe()"
   ]
  },
  {
   "cell_type": "code",
   "execution_count": null,
   "id": "219dc627",
   "metadata": {},
   "outputs": [],
   "source": [
    "# Variables cualitativas (tipo object)\n",
    "casas.select_dtypes(include=['object']).describe()"
   ]
  },
  {
   "cell_type": "markdown",
   "id": "3b100faa",
   "metadata": {},
   "source": [
    "### 3. Divido los datos en entrenamiento y prueba."
   ]
  },
  {
   "cell_type": "code",
   "execution_count": null,
   "id": "d921a0f8",
   "metadata": {},
   "outputs": [],
   "source": [
    "from sklearn.model_selection import train_test_split\n",
    "from sklearn.linear_model import LinearRegression\n",
    "from sklearn.preprocessing import minmax_scale"
   ]
  },
  {
   "cell_type": "code",
   "execution_count": null,
   "id": "9cf84cc8",
   "metadata": {},
   "outputs": [],
   "source": [
    "casas.head(3)"
   ]
  },
  {
   "cell_type": "code",
   "execution_count": null,
   "id": "2ed347fc",
   "metadata": {},
   "outputs": [],
   "source": [
    "# paso los datos de Bedrooms al final\n",
    "cols = [col for col in casas if col != casas.columns[-4]] + [casas.columns[-4]] \n",
    "casas = casas[cols]\n",
    "casas.head(3)"
   ]
  },
  {
   "cell_type": "code",
   "execution_count": null,
   "id": "f7b22341",
   "metadata": {},
   "outputs": [],
   "source": [
    "# los datos se dejaron como estaban (no hubo limpieza)\n",
    "# Pero, acomodar la data tambien es una opcion\n"
   ]
  },
  {
   "cell_type": "code",
   "execution_count": null,
   "id": "0f003815",
   "metadata": {},
   "outputs": [],
   "source": [
    "\"\"\"# Variables numéricas\"\"\"\n",
    "# la idea es estimar el precio a futuro \n",
    "# casas.select_dtypes(include=['float64', 'int']).describe()\n",
    "x = casas.iloc[:, :-3] # tomo las caracteristicas ..todas las columnas q no son precios\n",
    "x"
   ]
  },
  {
   "cell_type": "code",
   "execution_count": null,
   "id": "7c7c73d0",
   "metadata": {},
   "outputs": [],
   "source": [
    "\"\"\"Cuando se crea un modelo, es muy importante estudiar la distribución de la variable\n",
    "respuesta, ya que, a fin de cuentas, es lo que interesa predecir. \"\"\"\n",
    "#y = casas.iloc[:, -1:]# columna / variable objetivo\n",
    "y = casas['Price']\n",
    "y"
   ]
  },
  {
   "cell_type": "code",
   "execution_count": null,
   "id": "d6a1cc26",
   "metadata": {},
   "outputs": [],
   "source": [
    "# entremiento 70 - 30%.. aleatoreamente\n",
    "x_train, x_test, y_train, y_test = train_test_split(x,y, test_size=0.30, random_state=42)"
   ]
  },
  {
   "cell_type": "markdown",
   "id": "513d923d",
   "metadata": {},
   "source": [
    "### 4. Creo y entreno el modelo"
   ]
  },
  {
   "cell_type": "code",
   "execution_count": null,
   "id": "2ff0eab8",
   "metadata": {},
   "outputs": [],
   "source": [
    "# Transformaciones para las variables numéricas\n",
    "# PROBAR con y sin esto transformación\n",
    "#x_train = minmax_scale(x_train)\n",
    "#y_train = minmax_scale(y_train)"
   ]
  },
  {
   "cell_type": "code",
   "execution_count": null,
   "id": "fafaa933",
   "metadata": {},
   "outputs": [],
   "source": [
    "lrm = LinearRegression() # algoritmo a utilizar\n",
    "lrm.fit(x_train,y_train) #"
   ]
  },
  {
   "cell_type": "markdown",
   "id": "c08dcedd",
   "metadata": {},
   "source": [
    "### 5. Modelo de pruebas (evalua el modelo)"
   ]
  },
  {
   "cell_type": "code",
   "execution_count": null,
   "id": "fee6f6dd",
   "metadata": {},
   "outputs": [],
   "source": [
    "from sklearn import metrics"
   ]
  },
  {
   "cell_type": "code",
   "execution_count": null,
   "id": "93b0bd23",
   "metadata": {},
   "outputs": [],
   "source": [
    "\"\"\"\n",
    "x_test tiene el precio real de las casas con el que podemos comparar\n",
    "--> predicciones 1308536.1359262  vs y_test 1.339096e+06 la diferencia es de 0.3\n",
    "este seria el error \"\"\"\n",
    "y_pred = lrm.predict(x_test)\n",
    "y_pred"
   ]
  },
  {
   "cell_type": "code",
   "execution_count": null,
   "id": "4b83dd6f",
   "metadata": {},
   "outputs": [],
   "source": [
    "plt.scatter(y_test, y_pred)\n",
    "\"\"\"SI se traza una linea diagonal vemos que practicamente pasaria \n",
    "por la mitad, lo que indica que los datos de prediccion y reales se parecen\n",
    "los datos que estan cerca a la diagonal quiere decir q el modelo es bueno\"\"\""
   ]
  },
  {
   "cell_type": "code",
   "execution_count": null,
   "id": "f082cd3a",
   "metadata": {},
   "outputs": [],
   "source": [
    "\"\"\"restamos el precio real de la prediccion, el cual es el error (valor recidual)\n",
    "si no tuviera un modelo de distribucionon normal deberiamos replantear el modelo\"\"\"\n",
    "sns.distplot(y_test - y_pred)"
   ]
  },
  {
   "cell_type": "code",
   "execution_count": null,
   "id": "5444a885",
   "metadata": {},
   "outputs": [],
   "source": [
    "# calculamos el coeficiente de determinación R2\n",
    "\"\"\"El rango de R2 está entre 0 y 1, siendo 1 lo mejor.\"\"\"\n",
    "print(\"Coeficiente de determinación R^2:\", lrm.score(x_train,y_train))"
   ]
  },
  {
   "cell_type": "code",
   "execution_count": null,
   "id": "225548d2",
   "metadata": {},
   "outputs": [],
   "source": [
    "print(\"Coeficiente de determinación R^2:\", lrm.score(x_test,y_pred))"
   ]
  },
  {
   "cell_type": "code",
   "execution_count": null,
   "id": "080287e5",
   "metadata": {},
   "outputs": [],
   "source": [
    "# MAE (Mean absolute error) - Error medio absoluto\n",
    "metrics.mean_absolute_error(y_test,y_pred) # paso los valores reales y predicciones\n",
    "# mientras menor es el valor mejor es el modelo"
   ]
  },
  {
   "cell_type": "code",
   "execution_count": null,
   "id": "6edc0fc9",
   "metadata": {},
   "outputs": [],
   "source": [
    "# MSE (Error cuadrático medio)\n",
    "metrics.mean_squared_error(y_test,y_pred)"
   ]
  },
  {
   "cell_type": "code",
   "execution_count": null,
   "id": "2bc21464",
   "metadata": {},
   "outputs": [],
   "source": [
    "# RMSE (Raíz Cuadrada del MSE)\n",
    "np.sqrt(metrics.mean_squared_error(y_test,y_pred))"
   ]
  },
  {
   "cell_type": "code",
   "execution_count": null,
   "id": "999fb40d",
   "metadata": {},
   "outputs": [],
   "source": [
    "# Se crea un dataframe con las predicciones y el valor real\n",
    "from math import *\n",
    "df_predicciones = pd.DataFrame({'precio' : y_test, 'prediccion' : y_pred, 'dif' : abs((y_test-y_pred))})\n",
    "df_predicciones.head()"
   ]
  },
  {
   "cell_type": "code",
   "execution_count": null,
   "id": "407d3c09",
   "metadata": {},
   "outputs": [],
   "source": [
    "# Conclusion el modelo es un bastante bueno asi que puede se utilizado como modelo defnitivo"
   ]
  }
 ],
 "metadata": {
  "kernelspec": {
   "display_name": "Python 3 (ipykernel)",
   "language": "python",
   "name": "python3"
  },
  "language_info": {
   "codemirror_mode": {
    "name": "ipython",
    "version": 3
   },
   "file_extension": ".py",
   "mimetype": "text/x-python",
   "name": "python",
   "nbconvert_exporter": "python",
   "pygments_lexer": "ipython3",
   "version": "3.9.13"
  }
 },
 "nbformat": 4,
 "nbformat_minor": 5
}
