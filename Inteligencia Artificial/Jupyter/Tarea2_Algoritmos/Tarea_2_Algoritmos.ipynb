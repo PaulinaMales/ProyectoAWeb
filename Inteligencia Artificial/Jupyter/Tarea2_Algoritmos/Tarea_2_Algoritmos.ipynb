{
 "cells": [
  {
   "cell_type": "markdown",
   "id": "f7f324f1",
   "metadata": {},
   "source": [
    " Investigue en que casos se utilizan los algoritmos SVM, arboles de decisión y algoritmos bayesianos.\n",
    " Definición de cada algoritmo.\n",
    " Implementación de cada algoritmos.\n",
    " Conclusión de resultados obtenidos."
   ]
  },
  {
   "cell_type": "code",
   "execution_count": null,
   "id": "08632d74",
   "metadata": {},
   "outputs": [],
   "source": [
    "#DEFINICIONES \n",
    "SVM: Es un algoritmo de aprendizaje automático que e utiliza para clasificar\n",
    "    datos en diferentes categoría, se basa en la idea de encontrar una línea \n",
    "    hiperplano que separe los datos.\n",
    "    \n",
    "    Este algorito es robusto y flexible y se aplica en una amplia gama de \n",
    "    problemas de aprendizaje automático.\n",
    "\n",
    "ARBOLES DE DECISIÓN: Este algortimo de aprendizaje automático se utiliza para \n",
    "    tomar decisiones y clasificar datos, funciona creando una estructura en \n",
    "    forma de arbol con nodo y ramas, donde cada nodo representa una decisión \n",
    "    o característica importante de los datos. Las ramas representan posibles \n",
    "    opciones ue se derivan de cada decisión.\n",
    "    \n",
    "    Los árboles son fáciles de visualizar y comprender, por lo que son utiles \n",
    "    para comunicar decisiones complejas a un público amplio.\n",
    "    \n",
    "ARBOLES BAYESIANOS: Estos algoritmos \n",
    "    \n"
   ]
  },
  {
   "cell_type": "code",
   "execution_count": null,
   "id": "e3fd15af",
   "metadata": {},
   "outputs": [],
   "source": [
    "#CASOS DE IMPLENTENTACIÓN \n",
    "SVM se utilizan en una variedad de problemas de aprendizaje automático, como:\n",
    "    - Clasificación \n",
    "    - Regresión\n",
    "    - Detección de anomalías\n",
    "    - Agrupamiento\n",
    "    - Optimización no lineal\n",
    "ÁRBOLES DE DECISIÓN se utilizan en una variedad de problemas de aprendizaje automático, como:\n",
    "    - Clasificación \n",
    "    - Regresión\n",
    "    - Selección de características\n",
    "    - Toma de decisiones\n",
    "    - Marketing\n",
    "ALGORITMOS BAYESIANOS se utilizan en una variedad de problemas de aprendizaje automático, como:\n",
    "    - Clasificación \n",
    "    - Regresión\n",
    "    - Inferencias estadística\n",
    "    - Toma de decisiones \n",
    "    - Modelado  de sistemas complejos "
   ]
  },
  {
   "cell_type": "markdown",
   "id": "39f99eef",
   "metadata": {},
   "source": [
    "#APLICACIÓN "
   ]
  },
  {
   "cell_type": "code",
   "execution_count": 1,
   "id": "0ff4c258",
   "metadata": {},
   "outputs": [
    {
     "name": "stdout",
     "output_type": "stream",
     "text": [
      "Requirement already satisfied: numpy in c:\\users\\paulina males\\anaconda3\\lib\\site-packages (1.21.5)\n"
     ]
    }
   ],
   "source": [
    "#instalacion librerías\n",
    "!pip install numpy \n",
    "import numpy as np"
   ]
  },
  {
   "cell_type": "code",
   "execution_count": null,
   "id": "44b17b0a",
   "metadata": {},
   "outputs": [],
   "source": [
    "!pip install pandas\n",
    "import pandas as pd"
   ]
  },
  {
   "cell_type": "code",
   "execution_count": null,
   "id": "6ef862e8",
   "metadata": {},
   "outputs": [],
   "source": [
    "!pip install seaborn\n",
    "import seaborn as sb"
   ]
  },
  {
   "cell_type": "code",
   "execution_count": null,
   "id": "59a4f64c",
   "metadata": {},
   "outputs": [],
   "source": [
    "!pip install matplotlib\n"
   ]
  },
  {
   "cell_type": "code",
   "execution_count": null,
   "id": "9b550f70",
   "metadata": {},
   "outputs": [],
   "source": [
    "!pip install beautifulsoup4\n"
   ]
  },
  {
   "cell_type": "code",
   "execution_count": null,
   "id": "b1df2ff9",
   "metadata": {},
   "outputs": [],
   "source": [
    "!pip install scikit-learn"
   ]
  }
 ],
 "metadata": {
  "kernelspec": {
   "display_name": "Python 3 (ipykernel)",
   "language": "python",
   "name": "python3"
  },
  "language_info": {
   "codemirror_mode": {
    "name": "ipython",
    "version": 3
   },
   "file_extension": ".py",
   "mimetype": "text/x-python",
   "name": "python",
   "nbconvert_exporter": "python",
   "pygments_lexer": "ipython3",
   "version": "3.9.13"
  }
 },
 "nbformat": 4,
 "nbformat_minor": 5
}
