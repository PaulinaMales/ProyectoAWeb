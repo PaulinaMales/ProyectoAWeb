{
 "cells": [
  {
   "cell_type": "markdown",
   "id": "9d8e1204",
   "metadata": {},
   "source": [
    "## Reg_logísitica"
   ]
  },
  {
   "cell_type": "code",
   "execution_count": 1,
   "id": "f42f9dba",
   "metadata": {},
   "outputs": [],
   "source": [
    "import pandas as pd\n",
    "import numpy as np\n",
    "import matplotlib.pyplot as plt\n",
    "import seaborn as sns\n",
    "\n",
    "from sklearn.model_selection import train_test_split\n",
    "from sklearn.linear_model import LogisticRegression\n",
    "from sklearn.metrics import classification_report\n",
    "from sklearn.metrics import confusion_matrix"
   ]
  },
  {
   "cell_type": "markdown",
   "id": "cf66d178",
   "metadata": {},
   "source": [
    "### 1. Obtener y analizar datos"
   ]
  },
  {
   "cell_type": "code",
   "execution_count": 2,
   "id": "c1dcca5b",
   "metadata": {},
   "outputs": [],
   "source": [
    "def leer_datos(ruta):\n",
    "    df = pd.read_csv(ruta,sep=',')   \n",
    "    return df"
   ]
  },
  {
   "cell_type": "code",
   "execution_count": 3,
   "id": "5cd6fb71",
   "metadata": {},
   "outputs": [
    {
     "name": "stdout",
     "output_type": "stream",
     "text": [
      "<class 'pandas.core.frame.DataFrame'>\n",
      "RangeIndex: 418 entries, 0 to 417\n",
      "Data columns (total 11 columns):\n",
      " #   Column       Non-Null Count  Dtype  \n",
      "---  ------       --------------  -----  \n",
      " 0   PassengerId  418 non-null    int64  \n",
      " 1   Pclass       418 non-null    int64  \n",
      " 2   Name         418 non-null    object \n",
      " 3   Sex          418 non-null    object \n",
      " 4   Age          332 non-null    float64\n",
      " 5   SibSp        418 non-null    int64  \n",
      " 6   Parch        418 non-null    int64  \n",
      " 7   Ticket       418 non-null    object \n",
      " 8   Fare         417 non-null    float64\n",
      " 9   Cabin        91 non-null     object \n",
      " 10  Embarked     418 non-null    object \n",
      "dtypes: float64(2), int64(4), object(5)\n",
      "memory usage: 36.0+ KB\n"
     ]
    }
   ],
   "source": [
    "entrenamiento = leer_datos(\"data_Titanic.csv\")\n",
    "entrenamiento.info()"
   ]
  },
  {
   "cell_type": "code",
   "execution_count": 4,
   "id": "0c59b6cd",
   "metadata": {},
   "outputs": [
    {
     "data": {
      "text/html": [
       "<div>\n",
       "<style scoped>\n",
       "    .dataframe tbody tr th:only-of-type {\n",
       "        vertical-align: middle;\n",
       "    }\n",
       "\n",
       "    .dataframe tbody tr th {\n",
       "        vertical-align: top;\n",
       "    }\n",
       "\n",
       "    .dataframe thead th {\n",
       "        text-align: right;\n",
       "    }\n",
       "</style>\n",
       "<table border=\"1\" class=\"dataframe\">\n",
       "  <thead>\n",
       "    <tr style=\"text-align: right;\">\n",
       "      <th></th>\n",
       "      <th>PassengerId</th>\n",
       "      <th>Pclass</th>\n",
       "      <th>Name</th>\n",
       "      <th>Sex</th>\n",
       "      <th>Age</th>\n",
       "      <th>SibSp</th>\n",
       "      <th>Parch</th>\n",
       "      <th>Ticket</th>\n",
       "      <th>Fare</th>\n",
       "      <th>Cabin</th>\n",
       "      <th>Embarked</th>\n",
       "    </tr>\n",
       "  </thead>\n",
       "  <tbody>\n",
       "    <tr>\n",
       "      <th>0</th>\n",
       "      <td>892</td>\n",
       "      <td>3</td>\n",
       "      <td>Kelly, Mr. James</td>\n",
       "      <td>male</td>\n",
       "      <td>34.5</td>\n",
       "      <td>0</td>\n",
       "      <td>0</td>\n",
       "      <td>330911</td>\n",
       "      <td>7.8292</td>\n",
       "      <td>NaN</td>\n",
       "      <td>Q</td>\n",
       "    </tr>\n",
       "    <tr>\n",
       "      <th>1</th>\n",
       "      <td>893</td>\n",
       "      <td>3</td>\n",
       "      <td>Wilkes, Mrs. James (Ellen Needs)</td>\n",
       "      <td>female</td>\n",
       "      <td>47.0</td>\n",
       "      <td>1</td>\n",
       "      <td>0</td>\n",
       "      <td>363272</td>\n",
       "      <td>7.0000</td>\n",
       "      <td>NaN</td>\n",
       "      <td>S</td>\n",
       "    </tr>\n",
       "    <tr>\n",
       "      <th>2</th>\n",
       "      <td>894</td>\n",
       "      <td>2</td>\n",
       "      <td>Myles, Mr. Thomas Francis</td>\n",
       "      <td>male</td>\n",
       "      <td>62.0</td>\n",
       "      <td>0</td>\n",
       "      <td>0</td>\n",
       "      <td>240276</td>\n",
       "      <td>9.6875</td>\n",
       "      <td>NaN</td>\n",
       "      <td>Q</td>\n",
       "    </tr>\n",
       "    <tr>\n",
       "      <th>3</th>\n",
       "      <td>895</td>\n",
       "      <td>3</td>\n",
       "      <td>Wirz, Mr. Albert</td>\n",
       "      <td>male</td>\n",
       "      <td>27.0</td>\n",
       "      <td>0</td>\n",
       "      <td>0</td>\n",
       "      <td>315154</td>\n",
       "      <td>8.6625</td>\n",
       "      <td>NaN</td>\n",
       "      <td>S</td>\n",
       "    </tr>\n",
       "    <tr>\n",
       "      <th>4</th>\n",
       "      <td>896</td>\n",
       "      <td>3</td>\n",
       "      <td>Hirvonen, Mrs. Alexander (Helga E Lindqvist)</td>\n",
       "      <td>female</td>\n",
       "      <td>22.0</td>\n",
       "      <td>1</td>\n",
       "      <td>1</td>\n",
       "      <td>3101298</td>\n",
       "      <td>12.2875</td>\n",
       "      <td>NaN</td>\n",
       "      <td>S</td>\n",
       "    </tr>\n",
       "  </tbody>\n",
       "</table>\n",
       "</div>"
      ],
      "text/plain": [
       "   PassengerId  Pclass                                          Name     Sex  \\\n",
       "0          892       3                              Kelly, Mr. James    male   \n",
       "1          893       3              Wilkes, Mrs. James (Ellen Needs)  female   \n",
       "2          894       2                     Myles, Mr. Thomas Francis    male   \n",
       "3          895       3                              Wirz, Mr. Albert    male   \n",
       "4          896       3  Hirvonen, Mrs. Alexander (Helga E Lindqvist)  female   \n",
       "\n",
       "    Age  SibSp  Parch   Ticket     Fare Cabin Embarked  \n",
       "0  34.5      0      0   330911   7.8292   NaN        Q  \n",
       "1  47.0      1      0   363272   7.0000   NaN        S  \n",
       "2  62.0      0      0   240276   9.6875   NaN        Q  \n",
       "3  27.0      0      0   315154   8.6625   NaN        S  \n",
       "4  22.0      1      1  3101298  12.2875   NaN        S  "
      ]
     },
     "execution_count": 4,
     "metadata": {},
     "output_type": "execute_result"
    }
   ],
   "source": [
    "entrenamiento.head()"
   ]
  },
  {
   "cell_type": "code",
   "execution_count": 5,
   "id": "0cc7db1c",
   "metadata": {},
   "outputs": [
    {
     "data": {
      "text/plain": [
       "PassengerId      0\n",
       "Pclass           0\n",
       "Name             0\n",
       "Sex              0\n",
       "SibSp            0\n",
       "Parch            0\n",
       "Ticket           0\n",
       "Embarked         0\n",
       "Fare             1\n",
       "Age             86\n",
       "Cabin          327\n",
       "dtype: int64"
      ]
     },
     "execution_count": 5,
     "metadata": {},
     "output_type": "execute_result"
    }
   ],
   "source": [
    "\"\"\"Analizo valores, en este caso tenemos varios datos nullos\"\"\"\n",
    "entrenamiento.isna().sum().sort_values()"
   ]
  },
  {
   "cell_type": "code",
   "execution_count": 6,
   "id": "14d5fd6a",
   "metadata": {},
   "outputs": [
    {
     "data": {
      "text/plain": [
       "<AxesSubplot:>"
      ]
     },
     "execution_count": 6,
     "metadata": {},
     "output_type": "execute_result"
    },
    {
     "data": {
      "image/png": "[encoded data removed]",
      "text/plain": [
       "<Figure size 640x480 with 2 Axes>"
      ]
     },
     "metadata": {},
     "output_type": "display_data"
    }
   ],
   "source": [
    "\"\"\"los espacios en blanco representan los valores faltantes/nulos\"\"\"\n",
    "sns.heatmap(entrenamiento.isna())"
   ]
  },
  {
   "cell_type": "code",
   "execution_count": 7,
   "id": "c6b33c47",
   "metadata": {},
   "outputs": [
    {
     "ename": "ValueError",
     "evalue": "Could not interpret input 'Survived'",
     "output_type": "error",
     "traceback": [
      "\u001b[1;31m---------------------------------------------------------------------------\u001b[0m",
      "\u001b[1;31mValueError\u001b[0m                                Traceback (most recent call last)",
      "\u001b[1;32m~\\AppData\\Local\\Temp\\ipykernel_10104\\1706414344.py\u001b[0m in \u001b[0;36m<module>\u001b[1;34m\u001b[0m\n\u001b[0;32m      1\u001b[0m \u001b[1;34m\"\"\"NO no sobreviven\"\"\"\u001b[0m\u001b[1;33m\u001b[0m\u001b[1;33m\u001b[0m\u001b[0m\n\u001b[1;32m----> 2\u001b[1;33m \u001b[0msns\u001b[0m\u001b[1;33m.\u001b[0m\u001b[0mcountplot\u001b[0m\u001b[1;33m(\u001b[0m\u001b[0mx\u001b[0m\u001b[1;33m=\u001b[0m\u001b[1;34m'Survived'\u001b[0m\u001b[1;33m,\u001b[0m \u001b[0mdata\u001b[0m\u001b[1;33m=\u001b[0m\u001b[0mentrenamiento\u001b[0m\u001b[1;33m)\u001b[0m\u001b[1;33m\u001b[0m\u001b[1;33m\u001b[0m\u001b[0m\n\u001b[0m",
      "\u001b[1;32m~\\anaconda3\\lib\\site-packages\\seaborn\\_decorators.py\u001b[0m in \u001b[0;36minner_f\u001b[1;34m(*args, **kwargs)\u001b[0m\n\u001b[0;32m     44\u001b[0m             )\n\u001b[0;32m     45\u001b[0m         \u001b[0mkwargs\u001b[0m\u001b[1;33m.\u001b[0m\u001b[0mupdate\u001b[0m\u001b[1;33m(\u001b[0m\u001b[1;33m{\u001b[0m\u001b[0mk\u001b[0m\u001b[1;33m:\u001b[0m \u001b[0marg\u001b[0m \u001b[1;32mfor\u001b[0m \u001b[0mk\u001b[0m\u001b[1;33m,\u001b[0m \u001b[0marg\u001b[0m \u001b[1;32min\u001b[0m \u001b[0mzip\u001b[0m\u001b[1;33m(\u001b[0m\u001b[0msig\u001b[0m\u001b[1;33m.\u001b[0m\u001b[0mparameters\u001b[0m\u001b[1;33m,\u001b[0m \u001b[0margs\u001b[0m\u001b[1;33m)\u001b[0m\u001b[1;33m}\u001b[0m\u001b[1;33m)\u001b[0m\u001b[1;33m\u001b[0m\u001b[1;33m\u001b[0m\u001b[0m\n\u001b[1;32m---> 46\u001b[1;33m         \u001b[1;32mreturn\u001b[0m \u001b[0mf\u001b[0m\u001b[1;33m(\u001b[0m\u001b[1;33m**\u001b[0m\u001b[0mkwargs\u001b[0m\u001b[1;33m)\u001b[0m\u001b[1;33m\u001b[0m\u001b[1;33m\u001b[0m\u001b[0m\n\u001b[0m\u001b[0;32m     47\u001b[0m     \u001b[1;32mreturn\u001b[0m \u001b[0minner_f\u001b[0m\u001b[1;33m\u001b[0m\u001b[1;33m\u001b[0m\u001b[0m\n\u001b[0;32m     48\u001b[0m \u001b[1;33m\u001b[0m\u001b[0m\n",
      "\u001b[1;32m~\\anaconda3\\lib\\site-packages\\seaborn\\categorical.py\u001b[0m in \u001b[0;36mcountplot\u001b[1;34m(x, y, hue, data, order, hue_order, orient, color, palette, saturation, dodge, ax, **kwargs)\u001b[0m\n\u001b[0;32m   3596\u001b[0m         \u001b[1;32mraise\u001b[0m \u001b[0mValueError\u001b[0m\u001b[1;33m(\u001b[0m\u001b[1;34m\"Cannot pass values for both `x` and `y`\"\u001b[0m\u001b[1;33m)\u001b[0m\u001b[1;33m\u001b[0m\u001b[1;33m\u001b[0m\u001b[0m\n\u001b[0;32m   3597\u001b[0m \u001b[1;33m\u001b[0m\u001b[0m\n\u001b[1;32m-> 3598\u001b[1;33m     plotter = _CountPlotter(\n\u001b[0m\u001b[0;32m   3599\u001b[0m         \u001b[0mx\u001b[0m\u001b[1;33m,\u001b[0m \u001b[0my\u001b[0m\u001b[1;33m,\u001b[0m \u001b[0mhue\u001b[0m\u001b[1;33m,\u001b[0m \u001b[0mdata\u001b[0m\u001b[1;33m,\u001b[0m \u001b[0morder\u001b[0m\u001b[1;33m,\u001b[0m \u001b[0mhue_order\u001b[0m\u001b[1;33m,\u001b[0m\u001b[1;33m\u001b[0m\u001b[1;33m\u001b[0m\u001b[0m\n\u001b[0;32m   3600\u001b[0m         \u001b[0mestimator\u001b[0m\u001b[1;33m,\u001b[0m \u001b[0mci\u001b[0m\u001b[1;33m,\u001b[0m \u001b[0mn_boot\u001b[0m\u001b[1;33m,\u001b[0m \u001b[0munits\u001b[0m\u001b[1;33m,\u001b[0m \u001b[0mseed\u001b[0m\u001b[1;33m,\u001b[0m\u001b[1;33m\u001b[0m\u001b[1;33m\u001b[0m\u001b[0m\n",
      "\u001b[1;32m~\\anaconda3\\lib\\site-packages\\seaborn\\categorical.py\u001b[0m in \u001b[0;36m__init__\u001b[1;34m(self, x, y, hue, data, order, hue_order, estimator, ci, n_boot, units, seed, orient, color, palette, saturation, errcolor, errwidth, capsize, dodge)\u001b[0m\n\u001b[0;32m   1582\u001b[0m                  errwidth, capsize, dodge):\n\u001b[0;32m   1583\u001b[0m         \u001b[1;34m\"\"\"Initialize the plotter.\"\"\"\u001b[0m\u001b[1;33m\u001b[0m\u001b[1;33m\u001b[0m\u001b[0m\n\u001b[1;32m-> 1584\u001b[1;33m         self.establish_variables(x, y, hue, data, orient,\n\u001b[0m\u001b[0;32m   1585\u001b[0m                                  order, hue_order, units)\n\u001b[0;32m   1586\u001b[0m         \u001b[0mself\u001b[0m\u001b[1;33m.\u001b[0m\u001b[0mestablish_colors\u001b[0m\u001b[1;33m(\u001b[0m\u001b[0mcolor\u001b[0m\u001b[1;33m,\u001b[0m \u001b[0mpalette\u001b[0m\u001b[1;33m,\u001b[0m \u001b[0msaturation\u001b[0m\u001b[1;33m)\u001b[0m\u001b[1;33m\u001b[0m\u001b[1;33m\u001b[0m\u001b[0m\n",
      "\u001b[1;32m~\\anaconda3\\lib\\site-packages\\seaborn\\categorical.py\u001b[0m in \u001b[0;36mestablish_variables\u001b[1;34m(self, x, y, hue, data, orient, order, hue_order, units)\u001b[0m\n\u001b[0;32m    151\u001b[0m                 \u001b[1;32mif\u001b[0m \u001b[0misinstance\u001b[0m\u001b[1;33m(\u001b[0m\u001b[0mvar\u001b[0m\u001b[1;33m,\u001b[0m \u001b[0mstr\u001b[0m\u001b[1;33m)\u001b[0m\u001b[1;33m:\u001b[0m\u001b[1;33m\u001b[0m\u001b[1;33m\u001b[0m\u001b[0m\n\u001b[0;32m    152\u001b[0m                     \u001b[0merr\u001b[0m \u001b[1;33m=\u001b[0m \u001b[1;34m\"Could not interpret input '{}'\"\u001b[0m\u001b[1;33m.\u001b[0m\u001b[0mformat\u001b[0m\u001b[1;33m(\u001b[0m\u001b[0mvar\u001b[0m\u001b[1;33m)\u001b[0m\u001b[1;33m\u001b[0m\u001b[1;33m\u001b[0m\u001b[0m\n\u001b[1;32m--> 153\u001b[1;33m                     \u001b[1;32mraise\u001b[0m \u001b[0mValueError\u001b[0m\u001b[1;33m(\u001b[0m\u001b[0merr\u001b[0m\u001b[1;33m)\u001b[0m\u001b[1;33m\u001b[0m\u001b[1;33m\u001b[0m\u001b[0m\n\u001b[0m\u001b[0;32m    154\u001b[0m \u001b[1;33m\u001b[0m\u001b[0m\n\u001b[0;32m    155\u001b[0m             \u001b[1;31m# Figure out the plotting orientation\u001b[0m\u001b[1;33m\u001b[0m\u001b[1;33m\u001b[0m\u001b[0m\n",
      "\u001b[1;31mValueError\u001b[0m: Could not interpret input 'Survived'"
     ]
    }
   ],
   "source": [
    "\"\"\"NO no sobreviven\"\"\"\n",
    "sns.countplot(x='Survived', data=entrenamiento)"
   ]
  },
  {
   "cell_type": "code",
   "execution_count": 8,
   "id": "24cd21e7",
   "metadata": {},
   "outputs": [
    {
     "ename": "ValueError",
     "evalue": "Could not interpret input 'Survived'",
     "output_type": "error",
     "traceback": [
      "\u001b[1;31m---------------------------------------------------------------------------\u001b[0m",
      "\u001b[1;31mValueError\u001b[0m                                Traceback (most recent call last)",
      "\u001b[1;32m~\\AppData\\Local\\Temp\\ipykernel_10104\\2904783082.py\u001b[0m in \u001b[0;36m<module>\u001b[1;34m\u001b[0m\n\u001b[1;32m----> 1\u001b[1;33m \u001b[0msns\u001b[0m\u001b[1;33m.\u001b[0m\u001b[0mcountplot\u001b[0m\u001b[1;33m(\u001b[0m\u001b[0mx\u001b[0m\u001b[1;33m=\u001b[0m\u001b[1;34m'Survived'\u001b[0m\u001b[1;33m,\u001b[0m \u001b[0mdata\u001b[0m\u001b[1;33m=\u001b[0m\u001b[0mentrenamiento\u001b[0m\u001b[1;33m,\u001b[0m \u001b[0mhue\u001b[0m\u001b[1;33m=\u001b[0m\u001b[1;34m\"Sex\"\u001b[0m\u001b[1;33m)\u001b[0m\u001b[1;33m\u001b[0m\u001b[1;33m\u001b[0m\u001b[0m\n\u001b[0m",
      "\u001b[1;32m~\\anaconda3\\lib\\site-packages\\seaborn\\_decorators.py\u001b[0m in \u001b[0;36minner_f\u001b[1;34m(*args, **kwargs)\u001b[0m\n\u001b[0;32m     44\u001b[0m             )\n\u001b[0;32m     45\u001b[0m         \u001b[0mkwargs\u001b[0m\u001b[1;33m.\u001b[0m\u001b[0mupdate\u001b[0m\u001b[1;33m(\u001b[0m\u001b[1;33m{\u001b[0m\u001b[0mk\u001b[0m\u001b[1;33m:\u001b[0m \u001b[0marg\u001b[0m \u001b[1;32mfor\u001b[0m \u001b[0mk\u001b[0m\u001b[1;33m,\u001b[0m \u001b[0marg\u001b[0m \u001b[1;32min\u001b[0m \u001b[0mzip\u001b[0m\u001b[1;33m(\u001b[0m\u001b[0msig\u001b[0m\u001b[1;33m.\u001b[0m\u001b[0mparameters\u001b[0m\u001b[1;33m,\u001b[0m \u001b[0margs\u001b[0m\u001b[1;33m)\u001b[0m\u001b[1;33m}\u001b[0m\u001b[1;33m)\u001b[0m\u001b[1;33m\u001b[0m\u001b[1;33m\u001b[0m\u001b[0m\n\u001b[1;32m---> 46\u001b[1;33m         \u001b[1;32mreturn\u001b[0m \u001b[0mf\u001b[0m\u001b[1;33m(\u001b[0m\u001b[1;33m**\u001b[0m\u001b[0mkwargs\u001b[0m\u001b[1;33m)\u001b[0m\u001b[1;33m\u001b[0m\u001b[1;33m\u001b[0m\u001b[0m\n\u001b[0m\u001b[0;32m     47\u001b[0m     \u001b[1;32mreturn\u001b[0m \u001b[0minner_f\u001b[0m\u001b[1;33m\u001b[0m\u001b[1;33m\u001b[0m\u001b[0m\n\u001b[0;32m     48\u001b[0m \u001b[1;33m\u001b[0m\u001b[0m\n",
      "\u001b[1;32m~\\anaconda3\\lib\\site-packages\\seaborn\\categorical.py\u001b[0m in \u001b[0;36mcountplot\u001b[1;34m(x, y, hue, data, order, hue_order, orient, color, palette, saturation, dodge, ax, **kwargs)\u001b[0m\n\u001b[0;32m   3596\u001b[0m         \u001b[1;32mraise\u001b[0m \u001b[0mValueError\u001b[0m\u001b[1;33m(\u001b[0m\u001b[1;34m\"Cannot pass values for both `x` and `y`\"\u001b[0m\u001b[1;33m)\u001b[0m\u001b[1;33m\u001b[0m\u001b[1;33m\u001b[0m\u001b[0m\n\u001b[0;32m   3597\u001b[0m \u001b[1;33m\u001b[0m\u001b[0m\n\u001b[1;32m-> 3598\u001b[1;33m     plotter = _CountPlotter(\n\u001b[0m\u001b[0;32m   3599\u001b[0m         \u001b[0mx\u001b[0m\u001b[1;33m,\u001b[0m \u001b[0my\u001b[0m\u001b[1;33m,\u001b[0m \u001b[0mhue\u001b[0m\u001b[1;33m,\u001b[0m \u001b[0mdata\u001b[0m\u001b[1;33m,\u001b[0m \u001b[0morder\u001b[0m\u001b[1;33m,\u001b[0m \u001b[0mhue_order\u001b[0m\u001b[1;33m,\u001b[0m\u001b[1;33m\u001b[0m\u001b[1;33m\u001b[0m\u001b[0m\n\u001b[0;32m   3600\u001b[0m         \u001b[0mestimator\u001b[0m\u001b[1;33m,\u001b[0m \u001b[0mci\u001b[0m\u001b[1;33m,\u001b[0m \u001b[0mn_boot\u001b[0m\u001b[1;33m,\u001b[0m \u001b[0munits\u001b[0m\u001b[1;33m,\u001b[0m \u001b[0mseed\u001b[0m\u001b[1;33m,\u001b[0m\u001b[1;33m\u001b[0m\u001b[1;33m\u001b[0m\u001b[0m\n",
      "\u001b[1;32m~\\anaconda3\\lib\\site-packages\\seaborn\\categorical.py\u001b[0m in \u001b[0;36m__init__\u001b[1;34m(self, x, y, hue, data, order, hue_order, estimator, ci, n_boot, units, seed, orient, color, palette, saturation, errcolor, errwidth, capsize, dodge)\u001b[0m\n\u001b[0;32m   1582\u001b[0m                  errwidth, capsize, dodge):\n\u001b[0;32m   1583\u001b[0m         \u001b[1;34m\"\"\"Initialize the plotter.\"\"\"\u001b[0m\u001b[1;33m\u001b[0m\u001b[1;33m\u001b[0m\u001b[0m\n\u001b[1;32m-> 1584\u001b[1;33m         self.establish_variables(x, y, hue, data, orient,\n\u001b[0m\u001b[0;32m   1585\u001b[0m                                  order, hue_order, units)\n\u001b[0;32m   1586\u001b[0m         \u001b[0mself\u001b[0m\u001b[1;33m.\u001b[0m\u001b[0mestablish_colors\u001b[0m\u001b[1;33m(\u001b[0m\u001b[0mcolor\u001b[0m\u001b[1;33m,\u001b[0m \u001b[0mpalette\u001b[0m\u001b[1;33m,\u001b[0m \u001b[0msaturation\u001b[0m\u001b[1;33m)\u001b[0m\u001b[1;33m\u001b[0m\u001b[1;33m\u001b[0m\u001b[0m\n",
      "\u001b[1;32m~\\anaconda3\\lib\\site-packages\\seaborn\\categorical.py\u001b[0m in \u001b[0;36mestablish_variables\u001b[1;34m(self, x, y, hue, data, orient, order, hue_order, units)\u001b[0m\n\u001b[0;32m    151\u001b[0m                 \u001b[1;32mif\u001b[0m \u001b[0misinstance\u001b[0m\u001b[1;33m(\u001b[0m\u001b[0mvar\u001b[0m\u001b[1;33m,\u001b[0m \u001b[0mstr\u001b[0m\u001b[1;33m)\u001b[0m\u001b[1;33m:\u001b[0m\u001b[1;33m\u001b[0m\u001b[1;33m\u001b[0m\u001b[0m\n\u001b[0;32m    152\u001b[0m                     \u001b[0merr\u001b[0m \u001b[1;33m=\u001b[0m \u001b[1;34m\"Could not interpret input '{}'\"\u001b[0m\u001b[1;33m.\u001b[0m\u001b[0mformat\u001b[0m\u001b[1;33m(\u001b[0m\u001b[0mvar\u001b[0m\u001b[1;33m)\u001b[0m\u001b[1;33m\u001b[0m\u001b[1;33m\u001b[0m\u001b[0m\n\u001b[1;32m--> 153\u001b[1;33m                     \u001b[1;32mraise\u001b[0m \u001b[0mValueError\u001b[0m\u001b[1;33m(\u001b[0m\u001b[0merr\u001b[0m\u001b[1;33m)\u001b[0m\u001b[1;33m\u001b[0m\u001b[1;33m\u001b[0m\u001b[0m\n\u001b[0m\u001b[0;32m    154\u001b[0m \u001b[1;33m\u001b[0m\u001b[0m\n\u001b[0;32m    155\u001b[0m             \u001b[1;31m# Figure out the plotting orientation\u001b[0m\u001b[1;33m\u001b[0m\u001b[1;33m\u001b[0m\u001b[0m\n",
      "\u001b[1;31mValueError\u001b[0m: Could not interpret input 'Survived'"
     ]
    }
   ],
   "source": [
    "sns.countplot(x='Survived', data=entrenamiento, hue=\"Sex\")"
   ]
  },
  {
   "cell_type": "code",
   "execution_count": null,
   "id": "f4bf6515",
   "metadata": {},
   "outputs": [],
   "source": [
    "sns.countplot(x='Survived', data=entrenamiento, hue=\"Pclass\")"
   ]
  },
  {
   "cell_type": "code",
   "execution_count": null,
   "id": "6bdd8eb0",
   "metadata": {},
   "outputs": [],
   "source": [
    "\"\"\"vemos q la mayor parte esta entre los 20 y 40\"\"\"\n",
    "sns.distplot(entrenamiento[\"Age\"].dropna(), kde=False)\n",
    "\"\"\"kde elimina la parte de linea curva q muestra la normal\n",
    "puedo especificar el # de columnas con bins\"\"\"\n",
    "# sns.distplot(entrenamiento[\"Age\"].dropna(), kde=False, bins=30)"
   ]
  },
  {
   "cell_type": "code",
   "execution_count": null,
   "id": "ca147125",
   "metadata": {},
   "outputs": [],
   "source": [
    "# numero de familiares de c/pasajero\n",
    "entrenamiento['SibSp'].plot.hist(bins=20)\n",
    "\"\"\"0 representa la gente qu no tenia familiares, 1 la gente con 200 familiares\"\"\""
   ]
  },
  {
   "cell_type": "markdown",
   "id": "026fb24a",
   "metadata": {},
   "source": [
    "### 2. Limpieza de datos"
   ]
  },
  {
   "cell_type": "code",
   "execution_count": null,
   "id": "10ae3648",
   "metadata": {},
   "outputs": [],
   "source": [
    "sns.heatmap(entrenamiento.isnull())"
   ]
  },
  {
   "cell_type": "code",
   "execution_count": null,
   "id": "a03849a6",
   "metadata": {},
   "outputs": [],
   "source": [
    "# vamos a modificar el valor nullo por el valor medio\n",
    "# calcular la edad media x cada una de las categorias (1ra,2da,y 3ra clase)\n",
    "\"\"\"la linea que divide la caja representa el valor medio\n",
    "38 clase 1, 30 clase 2, 25 clase 3\"\"\"\n",
    "sns.boxplot(x=\"Pclass\", y=\"Age\", data=entrenamiento)"
   ]
  },
  {
   "cell_type": "code",
   "execution_count": null,
   "id": "108e3837",
   "metadata": {},
   "outputs": [],
   "source": [
    "#rellenar valore nulos con la media de los valores\n",
    "def calcular_edad_media(columnas):\n",
    "    edad= columnas[0]\n",
    "    clase=columnas[1]\n",
    "    if pd.isnull(edad):\n",
    "        if clase == 1:\n",
    "            return 38\n",
    "        elif clase == 2:\n",
    "            return 30\n",
    "        else:\n",
    "            return 25\n",
    "    else:\n",
    "        return edad\n",
    "    \n",
    "# Invoco a la función calcular_edad_media \n",
    "entrenamiento[\"Age\"] = entrenamiento[[\"Age\",\"Pclass\"]].apply(calcular_edad_media, axis=1)\n",
    "entrenamiento.head(3)"
   ]
  },
  {
   "cell_type": "code",
   "execution_count": null,
   "id": "071575f0",
   "metadata": {},
   "outputs": [],
   "source": [
    "# Borramos la columna Cabin\n",
    "entrenamiento.drop(\"Cabin\",axis=1,inplace=True)"
   ]
  },
  {
   "cell_type": "code",
   "execution_count": null,
   "id": "990f8b5e",
   "metadata": {},
   "outputs": [],
   "source": [
    "# Visualizamos los datos actuales\n",
    "sns.heatmap(entrenamiento.isnull())"
   ]
  },
  {
   "cell_type": "code",
   "execution_count": null,
   "id": "7a50cec9",
   "metadata": {},
   "outputs": [],
   "source": [
    "#queda asi el dataset, lo q interesa es dejar las columnas numericas\n",
    "# por tanto podemos eliminar columnas alfanumericas Nombre y Ticket\n",
    "entrenamiento.head(3)"
   ]
  },
  {
   "cell_type": "code",
   "execution_count": null,
   "id": "8fbabd38",
   "metadata": {},
   "outputs": [],
   "source": [
    "entrenamiento.drop([\"Name\",\"Ticket\",\"PassengerId\"],axis=1,inplace=True)\n",
    "entrenamiento.head(3)"
   ]
  },
  {
   "cell_type": "code",
   "execution_count": null,
   "id": "264f76a3",
   "metadata": {},
   "outputs": [],
   "source": []
  },
  {
   "cell_type": "code",
   "execution_count": null,
   "id": "c57523ae",
   "metadata": {},
   "outputs": [],
   "source": [
    "\"\"\"sexo es alfanumerica sin embargo podria ser importante,\n",
    "por tanto la convertimos en numerica con getdummiers hombre = 1 , mujer = 0\n",
    "lo que era 1 columas ahora son dos donde o es 1 o es 0\"\"\"\n",
    "pd.get_dummies(entrenamiento[\"Sex\"])"
   ]
  },
  {
   "cell_type": "code",
   "execution_count": null,
   "id": "0f802b51",
   "metadata": {},
   "outputs": [],
   "source": [
    "\"\"\"basta con mostrar una columna\"\"\"\n",
    "sexo = pd.get_dummies(entrenamiento[\"Sex\"], drop_first=True)\n",
    "sexo.head(3)"
   ]
  },
  {
   "cell_type": "code",
   "execution_count": null,
   "id": "aa8862f6",
   "metadata": {},
   "outputs": [],
   "source": [
    "#se añade al dataset y borro la que ya no hace falta\n",
    "entrenamiento = pd.concat([entrenamiento,sexo],axis=1)\n",
    "entrenamiento.head(3)"
   ]
  },
  {
   "cell_type": "code",
   "execution_count": null,
   "id": "a5c50fa6",
   "metadata": {},
   "outputs": [],
   "source": [
    "entrenamiento.drop(\"Sex\",axis=1,inplace=True)\n",
    "entrenamiento.head(3)"
   ]
  },
  {
   "cell_type": "code",
   "execution_count": null,
   "id": "cece4152",
   "metadata": {},
   "outputs": [],
   "source": [
    "#Cambiamos los valores alfanumericos en numericos\n",
    "puerto= pd.get_dummies(entrenamiento[\"Embarked\"])\n",
    "puerto.head(3)"
   ]
  },
  {
   "cell_type": "code",
   "execution_count": null,
   "id": "8b41dfb2",
   "metadata": {},
   "outputs": [],
   "source": [
    "# es suficiente quedarse con 2 columnas, \n",
    "#si dos son 0 0 qioeres decir que es de al categoria que falta\n",
    "puerto= pd.get_dummies(entrenamiento[\"Embarked\"],drop_first=True)\n",
    "puerto.head(3)"
   ]
  },
  {
   "cell_type": "code",
   "execution_count": null,
   "id": "b32a9a37",
   "metadata": {},
   "outputs": [],
   "source": [
    "entrenamiento = pd.concat([entrenamiento,puerto],axis=1)\n",
    "entrenamiento.head(3)"
   ]
  },
  {
   "cell_type": "code",
   "execution_count": null,
   "id": "6a515908",
   "metadata": {},
   "outputs": [],
   "source": [
    "# Elimino Embarked\t\n",
    "entrenamiento.drop(\"Embarked\",axis=1,inplace=True)\n",
    "entrenamiento.head(3)"
   ]
  },
  {
   "cell_type": "code",
   "execution_count": null,
   "id": "82ada6c9",
   "metadata": {},
   "outputs": [],
   "source": [
    "entrenamiento=entrenamiento.rename(columns={\"male\":\"Sex\"})\n",
    "entrenamiento.head(3)"
   ]
  },
  {
   "cell_type": "markdown",
   "id": "067a7a14",
   "metadata": {},
   "source": [
    "### 3. Divido los datos "
   ]
  },
  {
   "cell_type": "code",
   "execution_count": null,
   "id": "22fa0d9a",
   "metadata": {},
   "outputs": [],
   "source": [
    "# me interasa saber si sobrevive o no, dividimos la data\n",
    "x_train = entrenamiento.iloc[:, 1:] # carcateristicas\n",
    "y_train = entrenamiento[\"Survived\"] # etiqueta"
   ]
  },
  {
   "cell_type": "markdown",
   "id": "657cf089",
   "metadata": {},
   "source": [
    "### Datos test"
   ]
  },
  {
   "cell_type": "code",
   "execution_count": null,
   "id": "80fd8f44",
   "metadata": {},
   "outputs": [],
   "source": [
    "# como los datos estaban divididos en train y test \n",
    "# utilizao los de test\n",
    "prueba = leer_datos(\"test_Titanic.csv\")\n",
    "prueba.info()"
   ]
  },
  {
   "cell_type": "code",
   "execution_count": null,
   "id": "a44a2285",
   "metadata": {},
   "outputs": [],
   "source": [
    "\"\"\"realizo el mismo taratamiento de datos\"\"\"\n",
    "prueba.isna().sum().sort_values()"
   ]
  },
  {
   "cell_type": "code",
   "execution_count": null,
   "id": "c927a270",
   "metadata": {},
   "outputs": [],
   "source": [
    "sns.heatmap(prueba.isnull())"
   ]
  },
  {
   "cell_type": "code",
   "execution_count": null,
   "id": "73927004",
   "metadata": {},
   "outputs": [],
   "source": [
    "# tratar con Fare\n",
    "\"\"\"NO puede haber nulos porq el modelo no se ejecuta\"\"\"\n",
    "prueba = prueba.fillna(value=0)\n",
    "prueba.isna().sum().sort_values()"
   ]
  },
  {
   "cell_type": "code",
   "execution_count": null,
   "id": "a805b996",
   "metadata": {},
   "outputs": [],
   "source": [
    "# vamos a modificar el valor nullo por el valor medio\n",
    "# calcular la edad media x cada una de las categorias (1ra,2da,y 3ra clase)\n",
    "sns.boxplot(x=\"Pclass\", y=\"Age\", data=prueba)\n",
    "\"\"\"la linea que divide la caja representa el valor medio\n",
    "41 clase 1, 25 clase 2, 23 clase 3\"\"\""
   ]
  },
  {
   "cell_type": "code",
   "execution_count": null,
   "id": "ae2375fb",
   "metadata": {},
   "outputs": [],
   "source": [
    "#rellenar valore nulos con estos valores\n",
    "def calcular_edad_media(columnas):\n",
    "    edad= columnas[0]\n",
    "    clase=columnas[1]\n",
    "    if pd.isnull(edad):\n",
    "        if clase == 1:\n",
    "            return 41\n",
    "        elif clase == 2:\n",
    "            return 25\n",
    "        else:\n",
    "            return 23\n",
    "    else:\n",
    "        return edad\n",
    "    \n",
    "# Invoco a la función calcular_edad_media \n",
    "prueba[\"Age\"] = prueba[[\"Age\",\"Pclass\"]].apply(calcular_edad_media, axis=1)\n",
    "prueba.head(3)"
   ]
  },
  {
   "cell_type": "code",
   "execution_count": null,
   "id": "9062fa6e",
   "metadata": {},
   "outputs": [],
   "source": [
    "# Borramos las para equiparar con tarin\n",
    "prueba.drop([\"Name\",\"Ticket\",\"PassengerId\",\"Cabin\"],axis=1,inplace=True)"
   ]
  },
  {
   "cell_type": "code",
   "execution_count": null,
   "id": "030138be",
   "metadata": {},
   "outputs": [],
   "source": [
    "prueba.head(3)"
   ]
  },
  {
   "cell_type": "code",
   "execution_count": null,
   "id": "5b1b18a2",
   "metadata": {},
   "outputs": [],
   "source": [
    "sexo = pd.get_dummies(prueba[\"Sex\"], drop_first=True)\n",
    "prueba = pd.concat([prueba,sexo],axis=1)\n",
    "prueba.drop(\"Sex\",axis=1,inplace=True)\n",
    "prueba=prueba.rename(columns={\"male\":\"Sex\"})"
   ]
  },
  {
   "cell_type": "code",
   "execution_count": null,
   "id": "cc72f3ae",
   "metadata": {},
   "outputs": [],
   "source": [
    "puerto= pd.get_dummies(prueba[\"Embarked\"])\n",
    "puerto= pd.get_dummies(prueba[\"Embarked\"],drop_first=True)\n",
    "prueba = pd.concat([prueba,puerto],axis=1)\n",
    "prueba.drop(\"Embarked\",axis=1,inplace=True)"
   ]
  },
  {
   "cell_type": "code",
   "execution_count": null,
   "id": "75ec6141",
   "metadata": {},
   "outputs": [],
   "source": [
    "prueba.head(3)"
   ]
  },
  {
   "cell_type": "code",
   "execution_count": null,
   "id": "80072c83",
   "metadata": {},
   "outputs": [],
   "source": [
    "x_test = prueba # carcateristicas\n",
    "#anadir columnas\n",
    "y_test = pd.DataFrame(np.random.randint(0, 2, (418, 1)))\n",
    "\n",
    "print(x_test)\n",
    "print(y_test)"
   ]
  },
  {
   "cell_type": "markdown",
   "id": "9c7235be",
   "metadata": {},
   "source": [
    "### 4. Crear el modelo"
   ]
  },
  {
   "cell_type": "code",
   "execution_count": null,
   "id": "47f2b626",
   "metadata": {},
   "outputs": [],
   "source": [
    "modelo = LogisticRegression()\n",
    "modelo.fit(x_train,y_train)"
   ]
  },
  {
   "cell_type": "code",
   "execution_count": null,
   "id": "f00c4695",
   "metadata": {},
   "outputs": [],
   "source": [
    "y_pred = modelo.predict(x_test)\n",
    "#y_pred.flatten()\n",
    "y_pred = pd.DataFrame(y_pred)\n",
    "print(y_pred)\n",
    "print(y_test)"
   ]
  },
  {
   "cell_type": "markdown",
   "id": "cced334e",
   "metadata": {},
   "source": [
    "### 5. Pruebas"
   ]
  },
  {
   "cell_type": "code",
   "execution_count": null,
   "id": "2ac2ae91",
   "metadata": {},
   "outputs": [],
   "source": [
    "print(classification_report(y_test, y_pred))"
   ]
  },
  {
   "cell_type": "code",
   "execution_count": null,
   "id": "bc3e1c77",
   "metadata": {},
   "outputs": [],
   "source": [
    "confusion_matrix(y_test, y_pred)\n",
    "#posi 115 correctos neg correctos95\n",
    "#falso posi  falso neg  DIAGONALES 136 - 95 deben ser minimos     "
   ]
  },
  {
   "cell_type": "code",
   "execution_count": null,
   "id": "fcb94193",
   "metadata": {},
   "outputs": [],
   "source": [
    "# CONCLUSIÓn el modelo es fatal.."
   ]
  }
 ],
 "metadata": {
  "kernelspec": {
   "display_name": "Python 3 (ipykernel)",
   "language": "python",
   "name": "python3"
  },
  "language_info": {
   "codemirror_mode": {
    "name": "ipython",
    "version": 3
   },
   "file_extension": ".py",
   "mimetype": "text/x-python",
   "name": "python",
   "nbconvert_exporter": "python",
   "pygments_lexer": "ipython3",
   "version": "3.9.13"
  }
 },
 "nbformat": 4,
 "nbformat_minor": 5
}
