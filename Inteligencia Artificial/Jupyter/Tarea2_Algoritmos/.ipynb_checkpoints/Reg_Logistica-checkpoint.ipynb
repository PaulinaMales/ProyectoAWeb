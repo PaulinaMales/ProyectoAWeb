{
 "cells": [
  {
   "cell_type": "markdown",
   "id": "9d8e1204",
   "metadata": {},
   "source": [
    "## Reg_logísitica"
   ]
  },
  {
   "cell_type": "code",
   "execution_count": 1,
   "id": "f42f9dba",
   "metadata": {},
   "outputs": [],
   "source": [
    "import pandas as pd\n",
    "import numpy as np\n",
    "import matplotlib.pyplot as plt\n",
    "import seaborn as sns\n",
    "\n",
    "from sklearn.model_selection import train_test_split\n",
    "from sklearn.linear_model import LogisticRegression\n",
    "from sklearn.metrics import classification_report\n",
    "from sklearn.metrics import confusion_matrix"
   ]
  },
  {
   "cell_type": "markdown",
   "id": "cf66d178",
   "metadata": {},
   "source": [
    "### 1. Obtener y analizar datos"
   ]
  },
  {
   "cell_type": "code",
   "execution_count": null,
   "id": "c1dcca5b",
   "metadata": {},
   "outputs": [],
   "source": [
    "def leer_datos(ruta):\n",
    "    df = pd.read_csv(ruta,sep=',')   \n",
    "    return df"
   ]
  },
  {
   "cell_type": "code",
   "execution_count": null,
   "id": "5cd6fb71",
   "metadata": {},
   "outputs": [],
   "source": [
    "entrenamiento = leer_datos(\"data_Titanic.csv\")\n",
    "entrenamiento.info()"
   ]
  },
  {
   "cell_type": "code",
   "execution_count": null,
   "id": "0c59b6cd",
   "metadata": {},
   "outputs": [],
   "source": [
    "entrenamiento.head()"
   ]
  },
  {
   "cell_type": "code",
   "execution_count": null,
   "id": "0cc7db1c",
   "metadata": {},
   "outputs": [],
   "source": [
    "\"\"\"Analizo valores, en este caso tenemos varios datos nullos\"\"\"\n",
    "entrenamiento.isna().sum().sort_values()"
   ]
  },
  {
   "cell_type": "code",
   "execution_count": null,
   "id": "14d5fd6a",
   "metadata": {},
   "outputs": [],
   "source": [
    "\"\"\"los espacios en blanco representan los valores faltantes/nulos\"\"\"\n",
    "sns.heatmap(entrenamiento.isna())"
   ]
  },
  {
   "cell_type": "code",
   "execution_count": null,
   "id": "c6b33c47",
   "metadata": {},
   "outputs": [],
   "source": [
    "\"\"\"NO no sobreviven\"\"\"\n",
    "sns.countplot(x='Survived', data=entrenamiento)"
   ]
  },
  {
   "cell_type": "code",
   "execution_count": null,
   "id": "24cd21e7",
   "metadata": {},
   "outputs": [],
   "source": [
    "sns.countplot(x='Survived', data=entrenamiento, hue=\"Sex\")"
   ]
  },
  {
   "cell_type": "code",
   "execution_count": null,
   "id": "f4bf6515",
   "metadata": {},
   "outputs": [],
   "source": [
    "sns.countplot(x='Survived', data=entrenamiento, hue=\"Pclass\")"
   ]
  },
  {
   "cell_type": "code",
   "execution_count": null,
   "id": "6bdd8eb0",
   "metadata": {},
   "outputs": [],
   "source": [
    "\"\"\"vemos q la mayor parte esta entre los 20 y 40\"\"\"\n",
    "sns.distplot(entrenamiento[\"Age\"].dropna(), kde=False)\n",
    "\"\"\"kde elimina la parte de linea curva q muestra la normal\n",
    "puedo especificar el # de columnas con bins\"\"\"\n",
    "# sns.distplot(entrenamiento[\"Age\"].dropna(), kde=False, bins=30)"
   ]
  },
  {
   "cell_type": "code",
   "execution_count": null,
   "id": "ca147125",
   "metadata": {},
   "outputs": [],
   "source": [
    "# numero de familiares de c/pasajero\n",
    "entrenamiento['SibSp'].plot.hist(bins=20)\n",
    "\"\"\"0 representa la gente qu no tenia familiares, 1 la gente con 200 familiares\"\"\""
   ]
  },
  {
   "cell_type": "markdown",
   "id": "026fb24a",
   "metadata": {},
   "source": [
    "### 2. Limpieza de datos"
   ]
  },
  {
   "cell_type": "code",
   "execution_count": null,
   "id": "10ae3648",
   "metadata": {},
   "outputs": [],
   "source": [
    "sns.heatmap(entrenamiento.isnull())"
   ]
  },
  {
   "cell_type": "code",
   "execution_count": null,
   "id": "a03849a6",
   "metadata": {},
   "outputs": [],
   "source": [
    "# vamos a modificar el valor nullo por el valor medio\n",
    "# calcular la edad media x cada una de las categorias (1ra,2da,y 3ra clase)\n",
    "\"\"\"la linea que divide la caja representa el valor medio\n",
    "38 clase 1, 30 clase 2, 25 clase 3\"\"\"\n",
    "sns.boxplot(x=\"Pclass\", y=\"Age\", data=entrenamiento)"
   ]
  },
  {
   "cell_type": "code",
   "execution_count": null,
   "id": "108e3837",
   "metadata": {},
   "outputs": [],
   "source": [
    "#rellenar valore nulos con la media de los valores\n",
    "def calcular_edad_media(columnas):\n",
    "    edad= columnas[0]\n",
    "    clase=columnas[1]\n",
    "    if pd.isnull(edad):\n",
    "        if clase == 1:\n",
    "            return 38\n",
    "        elif clase == 2:\n",
    "            return 30\n",
    "        else:\n",
    "            return 25\n",
    "    else:\n",
    "        return edad\n",
    "    \n",
    "# Invoco a la función calcular_edad_media \n",
    "entrenamiento[\"Age\"] = entrenamiento[[\"Age\",\"Pclass\"]].apply(calcular_edad_media, axis=1)\n",
    "entrenamiento.head(3)"
   ]
  },
  {
   "cell_type": "code",
   "execution_count": null,
   "id": "071575f0",
   "metadata": {},
   "outputs": [],
   "source": [
    "# Borramos la columna Cabin\n",
    "entrenamiento.drop(\"Cabin\",axis=1,inplace=True)"
   ]
  },
  {
   "cell_type": "code",
   "execution_count": null,
   "id": "990f8b5e",
   "metadata": {},
   "outputs": [],
   "source": [
    "# Visualizamos los datos actuales\n",
    "sns.heatmap(entrenamiento.isnull())"
   ]
  },
  {
   "cell_type": "code",
   "execution_count": null,
   "id": "7a50cec9",
   "metadata": {},
   "outputs": [],
   "source": [
    "#queda asi el dataset, lo q interesa es dejar las columnas numericas\n",
    "# por tanto podemos eliminar columnas alfanumericas Nombre y Ticket\n",
    "entrenamiento.head(3)"
   ]
  },
  {
   "cell_type": "code",
   "execution_count": null,
   "id": "8fbabd38",
   "metadata": {},
   "outputs": [],
   "source": [
    "entrenamiento.drop([\"Name\",\"Ticket\",\"PassengerId\"],axis=1,inplace=True)\n",
    "entrenamiento.head(3)"
   ]
  },
  {
   "cell_type": "code",
   "execution_count": null,
   "id": "264f76a3",
   "metadata": {},
   "outputs": [],
   "source": []
  },
  {
   "cell_type": "code",
   "execution_count": null,
   "id": "c57523ae",
   "metadata": {},
   "outputs": [],
   "source": [
    "\"\"\"sexo es alfanumerica sin embargo podria ser importante,\n",
    "por tanto la convertimos en numerica con getdummiers hombre = 1 , mujer = 0\n",
    "lo que era 1 columas ahora son dos donde o es 1 o es 0\"\"\"\n",
    "pd.get_dummies(entrenamiento[\"Sex\"])"
   ]
  },
  {
   "cell_type": "code",
   "execution_count": null,
   "id": "0f802b51",
   "metadata": {},
   "outputs": [],
   "source": [
    "\"\"\"basta con mostrar una columna\"\"\"\n",
    "sexo = pd.get_dummies(entrenamiento[\"Sex\"], drop_first=True)\n",
    "sexo.head(3)"
   ]
  },
  {
   "cell_type": "code",
   "execution_count": null,
   "id": "aa8862f6",
   "metadata": {},
   "outputs": [],
   "source": [
    "#se añade al dataset y borro la que ya no hace falta\n",
    "entrenamiento = pd.concat([entrenamiento,sexo],axis=1)\n",
    "entrenamiento.head(3)"
   ]
  },
  {
   "cell_type": "code",
   "execution_count": null,
   "id": "a5c50fa6",
   "metadata": {},
   "outputs": [],
   "source": [
    "entrenamiento.drop(\"Sex\",axis=1,inplace=True)\n",
    "entrenamiento.head(3)"
   ]
  },
  {
   "cell_type": "code",
   "execution_count": null,
   "id": "cece4152",
   "metadata": {},
   "outputs": [],
   "source": [
    "#Cambiamos los valores alfanumericos en numericos\n",
    "puerto= pd.get_dummies(entrenamiento[\"Embarked\"])\n",
    "puerto.head(3)"
   ]
  },
  {
   "cell_type": "code",
   "execution_count": null,
   "id": "8b41dfb2",
   "metadata": {},
   "outputs": [],
   "source": [
    "# es suficiente quedarse con 2 columnas, \n",
    "#si dos son 0 0 qioeres decir que es de al categoria que falta\n",
    "puerto= pd.get_dummies(entrenamiento[\"Embarked\"],drop_first=True)\n",
    "puerto.head(3)"
   ]
  },
  {
   "cell_type": "code",
   "execution_count": null,
   "id": "b32a9a37",
   "metadata": {},
   "outputs": [],
   "source": [
    "entrenamiento = pd.concat([entrenamiento,puerto],axis=1)\n",
    "entrenamiento.head(3)"
   ]
  },
  {
   "cell_type": "code",
   "execution_count": null,
   "id": "6a515908",
   "metadata": {},
   "outputs": [],
   "source": [
    "# Elimino Embarked\t\n",
    "entrenamiento.drop(\"Embarked\",axis=1,inplace=True)\n",
    "entrenamiento.head(3)"
   ]
  },
  {
   "cell_type": "code",
   "execution_count": null,
   "id": "82ada6c9",
   "metadata": {},
   "outputs": [],
   "source": [
    "entrenamiento=entrenamiento.rename(columns={\"male\":\"Sex\"})\n",
    "entrenamiento.head(3)"
   ]
  },
  {
   "cell_type": "markdown",
   "id": "067a7a14",
   "metadata": {},
   "source": [
    "### 3. Divido los datos "
   ]
  },
  {
   "cell_type": "code",
   "execution_count": null,
   "id": "22fa0d9a",
   "metadata": {},
   "outputs": [],
   "source": [
    "# me interasa saber si sobrevive o no, dividimos la data\n",
    "x_train = entrenamiento.iloc[:, 1:] # carcateristicas\n",
    "y_train = entrenamiento[\"Survived\"] # etiqueta"
   ]
  },
  {
   "cell_type": "markdown",
   "id": "657cf089",
   "metadata": {},
   "source": [
    "### Datos test"
   ]
  },
  {
   "cell_type": "code",
   "execution_count": null,
   "id": "80fd8f44",
   "metadata": {},
   "outputs": [],
   "source": [
    "# como los datos estaban divididos en train y test \n",
    "# utilizao los de test\n",
    "prueba = leer_datos(\"test_Titanic.csv\")\n",
    "prueba.info()"
   ]
  },
  {
   "cell_type": "code",
   "execution_count": null,
   "id": "a44a2285",
   "metadata": {},
   "outputs": [],
   "source": [
    "\"\"\"realizo el mismo taratamiento de datos\"\"\"\n",
    "prueba.isna().sum().sort_values()"
   ]
  },
  {
   "cell_type": "code",
   "execution_count": null,
   "id": "c927a270",
   "metadata": {},
   "outputs": [],
   "source": [
    "sns.heatmap(prueba.isnull())"
   ]
  },
  {
   "cell_type": "code",
   "execution_count": null,
   "id": "73927004",
   "metadata": {},
   "outputs": [],
   "source": [
    "# tratar con Fare\n",
    "\"\"\"NO puede haber nulos porq el modelo no se ejecuta\"\"\"\n",
    "prueba = prueba.fillna(value=0)\n",
    "prueba.isna().sum().sort_values()"
   ]
  },
  {
   "cell_type": "code",
   "execution_count": null,
   "id": "a805b996",
   "metadata": {},
   "outputs": [],
   "source": [
    "# vamos a modificar el valor nullo por el valor medio\n",
    "# calcular la edad media x cada una de las categorias (1ra,2da,y 3ra clase)\n",
    "sns.boxplot(x=\"Pclass\", y=\"Age\", data=prueba)\n",
    "\"\"\"la linea que divide la caja representa el valor medio\n",
    "41 clase 1, 25 clase 2, 23 clase 3\"\"\""
   ]
  },
  {
   "cell_type": "code",
   "execution_count": null,
   "id": "ae2375fb",
   "metadata": {},
   "outputs": [],
   "source": [
    "#rellenar valore nulos con estos valores\n",
    "def calcular_edad_media(columnas):\n",
    "    edad= columnas[0]\n",
    "    clase=columnas[1]\n",
    "    if pd.isnull(edad):\n",
    "        if clase == 1:\n",
    "            return 41\n",
    "        elif clase == 2:\n",
    "            return 25\n",
    "        else:\n",
    "            return 23\n",
    "    else:\n",
    "        return edad\n",
    "    \n",
    "# Invoco a la función calcular_edad_media \n",
    "prueba[\"Age\"] = prueba[[\"Age\",\"Pclass\"]].apply(calcular_edad_media, axis=1)\n",
    "prueba.head(3)"
   ]
  },
  {
   "cell_type": "code",
   "execution_count": null,
   "id": "9062fa6e",
   "metadata": {},
   "outputs": [],
   "source": [
    "# Borramos las para equiparar con tarin\n",
    "prueba.drop([\"Name\",\"Ticket\",\"PassengerId\",\"Cabin\"],axis=1,inplace=True)"
   ]
  },
  {
   "cell_type": "code",
   "execution_count": null,
   "id": "030138be",
   "metadata": {},
   "outputs": [],
   "source": [
    "prueba.head(3)"
   ]
  },
  {
   "cell_type": "code",
   "execution_count": null,
   "id": "5b1b18a2",
   "metadata": {},
   "outputs": [],
   "source": [
    "sexo = pd.get_dummies(prueba[\"Sex\"], drop_first=True)\n",
    "prueba = pd.concat([prueba,sexo],axis=1)\n",
    "prueba.drop(\"Sex\",axis=1,inplace=True)\n",
    "prueba=prueba.rename(columns={\"male\":\"Sex\"})"
   ]
  },
  {
   "cell_type": "code",
   "execution_count": null,
   "id": "cc72f3ae",
   "metadata": {},
   "outputs": [],
   "source": [
    "puerto= pd.get_dummies(prueba[\"Embarked\"])\n",
    "puerto= pd.get_dummies(prueba[\"Embarked\"],drop_first=True)\n",
    "prueba = pd.concat([prueba,puerto],axis=1)\n",
    "prueba.drop(\"Embarked\",axis=1,inplace=True)"
   ]
  },
  {
   "cell_type": "code",
   "execution_count": null,
   "id": "75ec6141",
   "metadata": {},
   "outputs": [],
   "source": [
    "prueba.head(3)"
   ]
  },
  {
   "cell_type": "code",
   "execution_count": null,
   "id": "80072c83",
   "metadata": {},
   "outputs": [],
   "source": [
    "x_test = prueba # carcateristicas\n",
    "#anadir columnas\n",
    "y_test = pd.DataFrame(np.random.randint(0, 2, (418, 1)))\n",
    "\n",
    "print(x_test)\n",
    "print(y_test)"
   ]
  },
  {
   "cell_type": "markdown",
   "id": "9c7235be",
   "metadata": {},
   "source": [
    "### 4. Crear el modelo"
   ]
  },
  {
   "cell_type": "code",
   "execution_count": null,
   "id": "47f2b626",
   "metadata": {},
   "outputs": [],
   "source": [
    "modelo = LogisticRegression()\n",
    "modelo.fit(x_train,y_train)"
   ]
  },
  {
   "cell_type": "code",
   "execution_count": null,
   "id": "f00c4695",
   "metadata": {},
   "outputs": [],
   "source": [
    "y_pred = modelo.predict(x_test)\n",
    "#y_pred.flatten()\n",
    "y_pred = pd.DataFrame(y_pred)\n",
    "print(y_pred)\n",
    "print(y_test)"
   ]
  },
  {
   "cell_type": "markdown",
   "id": "cced334e",
   "metadata": {},
   "source": [
    "### 5. Pruebas"
   ]
  },
  {
   "cell_type": "code",
   "execution_count": null,
   "id": "2ac2ae91",
   "metadata": {},
   "outputs": [],
   "source": [
    "print(classification_report(y_test, y_pred))"
   ]
  },
  {
   "cell_type": "code",
   "execution_count": null,
   "id": "bc3e1c77",
   "metadata": {},
   "outputs": [],
   "source": [
    "confusion_matrix(y_test, y_pred)\n",
    "#posi 115 correctos neg correctos95\n",
    "#falso posi  falso neg  DIAGONALES 136 - 95 deben ser minimos     "
   ]
  },
  {
   "cell_type": "code",
   "execution_count": null,
   "id": "fcb94193",
   "metadata": {},
   "outputs": [],
   "source": [
    "# CONCLUSIÓn el modelo es fatal.."
   ]
  }
 ],
 "metadata": {
  "kernelspec": {
   "display_name": "Python 3 (ipykernel)",
   "language": "python",
   "name": "python3"
  },
  "language_info": {
   "codemirror_mode": {
    "name": "ipython",
    "version": 3
   },
   "file_extension": ".py",
   "mimetype": "text/x-python",
   "name": "python",
   "nbconvert_exporter": "python",
   "pygments_lexer": "ipython3",
   "version": "3.9.13"
  }
 },
 "nbformat": 4,
 "nbformat_minor": 5
}
