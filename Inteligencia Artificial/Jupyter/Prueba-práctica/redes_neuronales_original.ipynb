{
 "cells": [
  {
   "cell_type": "code",
   "execution_count": 1,
   "id": "289791f4",
   "metadata": {},
   "outputs": [],
   "source": [
    "import tensorflow as tf\n",
    "import numpy as np\n",
    "import matplotlib.pyplot as plt\n",
    "import pandas as pd"
   ]
  },
  {
   "cell_type": "markdown",
   "id": "cb2b976f",
   "metadata": {},
   "source": [
    "## Leer datos del DataSet 📅"
   ]
  },
  {
   "cell_type": "code",
   "execution_count": 2,
   "id": "a98cb626",
   "metadata": {},
   "outputs": [],
   "source": [
    "initial_data = pd.read_csv(\"Bank_Clean.csv\")"
   ]
  },
  {
   "cell_type": "code",
   "execution_count": 3,
   "id": "502e68f6",
   "metadata": {},
   "outputs": [
    {
     "data": {
      "text/html": [
       "<div>\n",
       "<style scoped>\n",
       "    .dataframe tbody tr th:only-of-type {\n",
       "        vertical-align: middle;\n",
       "    }\n",
       "\n",
       "    .dataframe tbody tr th {\n",
       "        vertical-align: top;\n",
       "    }\n",
       "\n",
       "    .dataframe thead th {\n",
       "        text-align: right;\n",
       "    }\n",
       "</style>\n",
       "<table border=\"1\" class=\"dataframe\">\n",
       "  <thead>\n",
       "    <tr style=\"text-align: right;\">\n",
       "      <th></th>\n",
       "      <th>age</th>\n",
       "      <th>job</th>\n",
       "      <th>marital</th>\n",
       "      <th>default</th>\n",
       "      <th>balance</th>\n",
       "      <th>loan</th>\n",
       "      <th>duration</th>\n",
       "      <th>campaign</th>\n",
       "      <th>previous</th>\n",
       "      <th>deposit</th>\n",
       "    </tr>\n",
       "  </thead>\n",
       "  <tbody>\n",
       "    <tr>\n",
       "      <th>0</th>\n",
       "      <td>59</td>\n",
       "      <td>0</td>\n",
       "      <td>1</td>\n",
       "      <td>0</td>\n",
       "      <td>2343</td>\n",
       "      <td>0</td>\n",
       "      <td>1042</td>\n",
       "      <td>1</td>\n",
       "      <td>0</td>\n",
       "      <td>1</td>\n",
       "    </tr>\n",
       "    <tr>\n",
       "      <th>1</th>\n",
       "      <td>56</td>\n",
       "      <td>0</td>\n",
       "      <td>1</td>\n",
       "      <td>0</td>\n",
       "      <td>45</td>\n",
       "      <td>0</td>\n",
       "      <td>1467</td>\n",
       "      <td>1</td>\n",
       "      <td>0</td>\n",
       "      <td>1</td>\n",
       "    </tr>\n",
       "    <tr>\n",
       "      <th>2</th>\n",
       "      <td>41</td>\n",
       "      <td>9</td>\n",
       "      <td>1</td>\n",
       "      <td>0</td>\n",
       "      <td>1270</td>\n",
       "      <td>0</td>\n",
       "      <td>1389</td>\n",
       "      <td>1</td>\n",
       "      <td>0</td>\n",
       "      <td>1</td>\n",
       "    </tr>\n",
       "    <tr>\n",
       "      <th>3</th>\n",
       "      <td>55</td>\n",
       "      <td>7</td>\n",
       "      <td>1</td>\n",
       "      <td>0</td>\n",
       "      <td>2476</td>\n",
       "      <td>0</td>\n",
       "      <td>579</td>\n",
       "      <td>1</td>\n",
       "      <td>0</td>\n",
       "      <td>1</td>\n",
       "    </tr>\n",
       "    <tr>\n",
       "      <th>4</th>\n",
       "      <td>54</td>\n",
       "      <td>0</td>\n",
       "      <td>1</td>\n",
       "      <td>0</td>\n",
       "      <td>184</td>\n",
       "      <td>0</td>\n",
       "      <td>673</td>\n",
       "      <td>2</td>\n",
       "      <td>0</td>\n",
       "      <td>1</td>\n",
       "    </tr>\n",
       "  </tbody>\n",
       "</table>\n",
       "</div>"
      ],
      "text/plain": [
       "   age  job  marital  default  balance  loan  duration  campaign  previous  \\\n",
       "0   59    0        1        0     2343     0      1042         1         0   \n",
       "1   56    0        1        0       45     0      1467         1         0   \n",
       "2   41    9        1        0     1270     0      1389         1         0   \n",
       "3   55    7        1        0     2476     0       579         1         0   \n",
       "4   54    0        1        0      184     0       673         2         0   \n",
       "\n",
       "   deposit  \n",
       "0        1  \n",
       "1        1  \n",
       "2        1  \n",
       "3        1  \n",
       "4        1  "
      ]
     },
     "execution_count": 3,
     "metadata": {},
     "output_type": "execute_result"
    }
   ],
   "source": [
    "initial_data.head()"
   ]
  },
  {
   "cell_type": "markdown",
   "id": "4d3f47e6",
   "metadata": {},
   "source": [
    "## Creación, entrenamiento y testeo del modelo 🤖"
   ]
  },
  {
   "cell_type": "code",
   "execution_count": 4,
   "id": "6b2c13a4",
   "metadata": {},
   "outputs": [],
   "source": [
    "hidden_layer_1 = tf.keras.layers.Dense(units=10, input_shape=[9], activation='sigmoid')\n",
    "hidden_layer_2 = tf.keras.layers.Dense(units=10, activation='tanh')\n",
    "hidden_layer_3 = tf.keras.layers.Dense(units=10, activation='tanh')\n",
    "exit_layer = tf.keras.layers.Dense(units=5, activation='sigmoid')\n",
    "model = tf.keras.Sequential([hidden_layer_1, hidden_layer_2, hidden_layer_3, exit_layer])\n",
    "\n",
    "model.compile(optimizer = 'adam', loss='mean_squared_error', metrics=['binary_accuracy']) \n",
    "# -> \"mean_squared_error\": Poca cantidad de errores grandes es peor que una grande cantidad de errores pequeños\n",
    "\n",
    "train_data, target_data = initial_data.iloc[:, :-1], initial_data[\"deposit\"]\n",
    "history = model.fit(train_data, target_data, epochs=100, verbose=False)"
   ]
  },
  {
   "cell_type": "code",
   "execution_count": 5,
   "id": "edd8ec4d",
   "metadata": {},
   "outputs": [
    {
     "data": {
      "image/png": "[encoded data removed]",
      "text/plain": [
       "<Figure size 640x480 with 1 Axes>"
      ]
     },
     "metadata": {},
     "output_type": "display_data"
    }
   ],
   "source": [
    "plt.xlabel(\"Época\")\n",
    "plt.ylabel(\"Pérdida\")\n",
    "plt.plot(history.history[\"loss\"])\n",
    "plt.show()"
   ]
  },
  {
   "cell_type": "code",
   "execution_count": 6,
   "id": "58ebb0b6",
   "metadata": {},
   "outputs": [
    {
     "name": "stdout",
     "output_type": "stream",
     "text": [
      "225/225 [==============================] - 0s 634us/step - loss: 0.1576 - binary_accuracy: 0.7768\n"
     ]
    },
    {
     "data": {
      "text/plain": [
       "[0.1575656682252884, 0.7768234014511108]"
      ]
     },
     "execution_count": 6,
     "metadata": {},
     "output_type": "execute_result"
    }
   ],
   "source": [
    "model.evaluate(train_data, target_data)"
   ]
  },
  {
   "cell_type": "code",
   "execution_count": 7,
   "id": "10b00498",
   "metadata": {},
   "outputs": [
    {
     "name": "stdout",
     "output_type": "stream",
     "text": [
      "1/1 [==============================] - 0s 79ms/step\n"
     ]
    }
   ],
   "source": [
    "result = model.predict([[22, 0, 1, 0, 1500, 1, 1200, 1, 1]])"
   ]
  },
  {
   "cell_type": "code",
   "execution_count": 8,
   "id": "3135f907",
   "metadata": {},
   "outputs": [
    {
     "name": "stdout",
     "output_type": "stream",
     "text": [
      "Se Suscribiría: 1 || No se Suscribiría: 0\n",
      "La predicción es: 0\n"
     ]
    }
   ],
   "source": [
    "print(\"Se Suscribiría: 1 || No se Suscribiría: 0\")\n",
    "print(\"La predicción es:\", (int(result[0][0])))"
   ]
  }
 ],
 "metadata": {
  "kernelspec": {
   "display_name": "Python 3 (ipykernel)",
   "language": "python",
   "name": "python3"
  },
  "language_info": {
   "codemirror_mode": {
    "name": "ipython",
    "version": 3
   },
   "file_extension": ".py",
   "mimetype": "text/x-python",
   "name": "python",
   "nbconvert_exporter": "python",
   "pygments_lexer": "ipython3",
   "version": "3.9.13"
  }
 },
 "nbformat": 4,
 "nbformat_minor": 5
}
